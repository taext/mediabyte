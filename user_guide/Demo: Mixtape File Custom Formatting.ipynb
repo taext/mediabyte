{
 "cells": [
  {
   "cell_type": "code",
   "execution_count": 2,
   "metadata": {},
   "outputs": [],
   "source": [
    "from mediabyte import omm"
   ]
  },
  {
   "cell_type": "markdown",
   "metadata": {},
   "source": [
    "## Mixtape File Custom Formatting"
   ]
  },
  {
   "cell_type": "markdown",
   "metadata": {},
   "source": [
    "As this **Mixtape** file demonstrates, we can visually format the tags of a mediabyte (in a Mixtape file) to suit our needs:"
   ]
  },
  {
   "cell_type": "code",
   "execution_count": 8,
   "metadata": {},
   "outputs": [
    {
     "name": "stdout",
     "output_type": "stream",
     "text": [
      "\n",
      "\n",
      "\n",
      "            y.jKXOh5wrzK4\n",
      "    .Chinese Street Food Good Luck.funny.5m42s.6m3s\n",
      "            \n",
      "                            .b.2NYwBFd\n",
      "                .Memrise Language Learning App/Site\n",
      "                    .language.learning\n",
      "    \n",
      "    \n",
      "            y._CbucOb9dyw\n",
      "    .THENX Parallettes\n",
      "            .fitness\n",
      "            .calisthenics\n",
      "\n",
      "\n",
      "b.2NYwBFd.Memrise Language Learning App/Site.language.learning\n",
      "\n"
     ]
    }
   ],
   "source": [
    "! cat ../mixtapes/nightmix.omm"
   ]
  },
  {
   "cell_type": "code",
   "execution_count": 9,
   "metadata": {},
   "outputs": [
    {
     "data": {
      "text/html": [
       "<h2>White-Space Mix</h2> <br> 0. <a href=\"https://www.youtube.com/embed/jKXOh5wrzK4?start=342&end=363&rel=0&autoplay=1\" title=\"funny\">Chinese Street Food Good Luck</a>  [<a href=\"https://www.memrise.com/\">Memrise Language Learning App/Site</a>] <br>1. <a href=\"https://www.youtube.com/embed/_CbucOb9dyw?start=0&rel=0&autoplay=1\" title=\"fitness calisthenics\">THENX Parallettes</a> <br>2. <a href=\"https://www.memrise.com/\">Memrise Language Learning App/Site</a> <br>"
      ],
      "text/plain": [
       "<IPython.core.display.HTML object>"
      ]
     },
     "metadata": {},
     "output_type": "display_data"
    }
   ],
   "source": [
    "omm('../mixtapes/nightmix.omm').show('White-Space Mix')"
   ]
  },
  {
   "cell_type": "markdown",
   "metadata": {},
   "source": [
    "The rule for multi-line mediabytes in a Mixtape file is **if a tag starting a line starts with a . dot, it is appended to the previous line**."
   ]
  }
 ],
 "metadata": {
  "kernelspec": {
   "display_name": "Python 3",
   "language": "python",
   "name": "python3"
  },
  "language_info": {
   "codemirror_mode": {
    "name": "ipython",
    "version": 3
   },
   "file_extension": ".py",
   "mimetype": "text/x-python",
   "name": "python",
   "nbconvert_exporter": "python",
   "pygments_lexer": "ipython3",
   "version": "3.7.3"
  }
 },
 "nbformat": 4,
 "nbformat_minor": 2
}
