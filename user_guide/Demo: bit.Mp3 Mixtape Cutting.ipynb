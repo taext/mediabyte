{
 "cells": [
  {
   "cell_type": "code",
   "execution_count": 2,
   "metadata": {},
   "outputs": [],
   "source": [
    "from mediabyte import omm"
   ]
  },
  {
   "cell_type": "markdown",
   "metadata": {},
   "source": [
    "## bit.Mp3 Mixtape Cutting & Splicing (alpha)"
   ]
  },
  {
   "cell_type": "markdown",
   "metadata": {},
   "source": [
    "A **Mixtape** containing only **bit.Mp3** can be sliced (chapterized) and spliced (remixed).\n",
    "\n",
    "Possible use-case: on-the-fly podcast remix production for in-crowd participation and out-crowd exposure."
   ]
  },
  {
   "cell_type": "markdown",
   "metadata": {},
   "source": [
    "We start by defining two **bit.Mp3** **Sample** strings:"
   ]
  },
  {
   "cell_type": "code",
   "execution_count": 3,
   "metadata": {},
   "outputs": [],
   "source": [
    "my1BitStr = 'b.sn-704.Security Now.mp3.9m.9m10s'\n",
    "my2BitStr = 'b.2TLfYOA.No Agenda Show.mp3.1s.11s'"
   ]
  },
  {
   "cell_type": "markdown",
   "metadata": {},
   "source": [
    "Then we build **bit.Mp3** objects from these using `omm()`:"
   ]
  },
  {
   "cell_type": "code",
   "execution_count": 4,
   "metadata": {},
   "outputs": [],
   "source": [
    "my1Bit = omm(my1BitStr)\n",
    "my2Bit = omm(my2BitStr)"
   ]
  },
  {
   "cell_type": "markdown",
   "metadata": {},
   "source": [
    "We can build a **Mixtape** from these **bit.Mp3**s using the `+` addition operator:"
   ]
  },
  {
   "cell_type": "code",
   "execution_count": 5,
   "metadata": {},
   "outputs": [],
   "source": [
    "myMix = my1Bit + my2Bit"
   ]
  },
  {
   "cell_type": "code",
   "execution_count": 6,
   "metadata": {},
   "outputs": [
    {
     "data": {
      "text/plain": [
       "0. Security Now\n",
       "1. No Agenda Show"
      ]
     },
     "execution_count": 6,
     "metadata": {},
     "output_type": "execute_result"
    }
   ],
   "source": [
    "myMix"
   ]
  },
  {
   "cell_type": "markdown",
   "metadata": {},
   "source": [
    "Alternatively, we could just use the **Mixtape** string format directly:"
   ]
  },
  {
   "cell_type": "code",
   "execution_count": 7,
   "metadata": {},
   "outputs": [],
   "source": [
    "myBitsStr = 'b.sn-704.Security Now.mp3.9m.9m10s.b.2TLfYOA.No Agenda Show.mp3.1s.11s'"
   ]
  },
  {
   "cell_type": "code",
   "execution_count": 8,
   "metadata": {},
   "outputs": [
    {
     "data": {
      "text/plain": [
       "0. Security Now\n",
       "1. No Agenda Show"
      ]
     },
     "execution_count": 8,
     "metadata": {},
     "output_type": "execute_result"
    }
   ],
   "source": [
    "omm(myBitsStr)"
   ]
  },
  {
   "cell_type": "markdown",
   "metadata": {},
   "source": [
    "We import the `mp3Cutter` object:"
   ]
  },
  {
   "cell_type": "code",
   "execution_count": 9,
   "metadata": {},
   "outputs": [],
   "source": [
    "from mediabyte.files import mp3Cutter"
   ]
  },
  {
   "cell_type": "markdown",
   "metadata": {},
   "source": [
    "and pass the **Mixtape** object to `mp3Cutter.main()` to write the content, the two `bit.Mp3`, to individual MP3 files:"
   ]
  },
  {
   "cell_type": "code",
   "execution_count": 10,
   "metadata": {},
   "outputs": [
    {
     "name": "stdout",
     "output_type": "stream",
     "text": [
      "using file from cache sn0704.mp3\n",
      "sample Security Now_540_550.mp3 successfully cut...\n",
      "using file from cache NA-1123-2019-03-24-Final.mp3\n",
      "sample No Agenda Show_1_11.mp3 successfully cut...\n"
     ]
    }
   ],
   "source": [
    "mp3Cutter.main(myMix, keep_original=True)"
   ]
  },
  {
   "cell_type": "markdown",
   "metadata": {},
   "source": [
    "Using the optional argument `transition_sound` to mark clip transition, we splice the MP3 files created above to a single MP3:"
   ]
  },
  {
   "cell_type": "code",
   "execution_count": 11,
   "metadata": {},
   "outputs": [
    {
     "name": "stdout",
     "output_type": "stream",
     "text": [
      "successfully wrote file mixWithBell.mp3\n"
     ]
    }
   ],
   "source": [
    "mp3Cutter.splice_samples('mixWithBell.mp3', transition_sound=\"/home/dd/Downloads/store_door_bell.mp3\")"
   ]
  }
 ],
 "metadata": {
  "kernelspec": {
   "display_name": "Python 3",
   "language": "python",
   "name": "python3"
  },
  "language_info": {
   "codemirror_mode": {
    "name": "ipython",
    "version": 3
   },
   "file_extension": ".py",
   "mimetype": "text/x-python",
   "name": "python",
   "nbconvert_exporter": "python",
   "pygments_lexer": "ipython3",
   "version": "3.7.1"
  }
 },
 "nbformat": 4,
 "nbformat_minor": 2
}
