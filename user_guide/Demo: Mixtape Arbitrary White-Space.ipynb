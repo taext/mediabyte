{
 "cells": [
  {
   "cell_type": "code",
   "execution_count": 2,
   "metadata": {},
   "outputs": [],
   "source": [
    "from mediabyte import omm"
   ]
  },
  {
   "cell_type": "code",
   "execution_count": 5,
   "metadata": {},
   "outputs": [
    {
     "name": "stdout",
     "output_type": "stream",
     "text": [
      "\n",
      "# Example of a Mixtape file using\n",
      "# arbitrary white-space support\n",
      "\n",
      "# Lines starting with a tag that\n",
      "# starts with a period is appended\n",
      "# to the previous line\n",
      "\n",
      "\n",
      "        y._QYngRrbsKo\n",
      "        \n",
      ".Five Yin Chigong Set\n",
      "        \n",
      "        .52s\n",
      "        .1m2s\n",
      "\n",
      "\n",
      "y.pPj0wJNwsHc.2m27s\n",
      "\n",
      "    .Miss Monique Progressive\n",
      "\n",
      "        .music\n",
      "    \n",
      "    .52m\n",
      "        \n",
      "        "
     ]
    }
   ],
   "source": [
    "! cat multi-line-mixtape.omm"
   ]
  },
  {
   "cell_type": "code",
   "execution_count": 7,
   "metadata": {},
   "outputs": [
    {
     "data": {
      "text/html": [
       "<h2>White-Space Mix</h2> <br> 0. <a href=\"https://www.youtube.com/embed/_QYngRrbsKo?start=52&end=62&rel=0&autoplay=1\">Five Yin Chigong Set</a> <br>1. <a href=\"https://www.youtube.com/embed/pPj0wJNwsHc?start=147&end=3120&rel=0&autoplay=1\" title=\"music\">Miss Monique Progressive</a> <br>"
      ],
      "text/plain": [
       "<IPython.core.display.HTML object>"
      ]
     },
     "metadata": {},
     "output_type": "display_data"
    }
   ],
   "source": [
    "omm('multi-line-mixtape.omm').show('White-Space Mix')"
   ]
  }
 ],
 "metadata": {
  "kernelspec": {
   "display_name": "Python 3",
   "language": "python",
   "name": "python3"
  },
  "language_info": {
   "codemirror_mode": {
    "name": "ipython",
    "version": 3
   },
   "file_extension": ".py",
   "mimetype": "text/x-python",
   "name": "python",
   "nbconvert_exporter": "python",
   "pygments_lexer": "ipython3",
   "version": "3.7.1"
  }
 },
 "nbformat": 4,
 "nbformat_minor": 2
}
