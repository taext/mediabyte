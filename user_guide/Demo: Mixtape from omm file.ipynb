{
 "cells": [
  {
   "cell_type": "code",
   "execution_count": 1,
   "metadata": {},
   "outputs": [],
   "source": [
    "from mediabyte import omm"
   ]
  },
  {
   "cell_type": "markdown",
   "metadata": {},
   "source": [
    "## The Mixtape file format"
   ]
  },
  {
   "cell_type": "markdown",
   "metadata": {},
   "source": [
    "First, let's have a look at the content of a `Mixtape` file, `mixtape24.omm`.\n",
    "\n",
    "Please note that it is just an ordinary text-file using the `.omm` filetype.\n",
    "\n",
    "(Only non-comment lines are parsed, lines starting with `#` are ignored.)"
   ]
  },
  {
   "cell_type": "code",
   "execution_count": 2,
   "metadata": {},
   "outputs": [
    {
     "name": "stdout",
     "output_type": "stream",
     "text": [
      "/home/dd/Documents/mediabyte_dev/mixtapes\n"
     ]
    }
   ],
   "source": [
    "cd ../mixtapes"
   ]
  },
  {
   "cell_type": "code",
   "execution_count": 3,
   "metadata": {
    "collapsed": false,
    "inputHidden": false,
    "outputHidden": false
   },
   "outputs": [
    {
     "name": "stdout",
     "output_type": "stream",
     "text": [
      "# OMM Mixtape file example (in Atom)\n",
      "# March 15th '19 by d@v1d.dk\n",
      "\n",
      "# Movie Countdown Timer\n",
      "y.TQSVcvnm4yY.1s.Countdown.6s\n",
      "\n",
      "# Adam Savage's Over-engineered Bottle Opener\n",
      "y.MxLOoriXkMc.41m28s.Savage Pop.podcast.making.41m39s\n",
      "\n",
      "# Game Two Dancing Clip\n",
      "y.HcpVBjX3eQc.6m.Check Out Game Two.german.podcast.gaming.6m12s\n",
      "\n",
      "# Jaron Lanier 4-ever\n",
      "y.BCTlcj5vImk.1m23s.Jaron Lanier 4-ever.lecture.book.2m37s\n",
      "\n",
      "# Get Him to The Greek soundbite\n",
      "y.88mI7fGqQgk.No No No.17s.24s\n",
      "\n",
      "# All tags except y.youtubehash can be moved and excluded\n",
      "y.Hr4RBHlYrMk\n",
      "\n",
      "  \n"
     ]
    }
   ],
   "source": [
    "! cat mixtape24.omm"
   ]
  },
  {
   "cell_type": "markdown",
   "metadata": {},
   "source": [
    "## Loading a Mixtape file"
   ]
  },
  {
   "cell_type": "markdown",
   "metadata": {},
   "source": [
    "We can pass a `.omm` filename to `omm()`:"
   ]
  },
  {
   "cell_type": "code",
   "execution_count": 4,
   "metadata": {
    "collapsed": false,
    "inputHidden": false,
    "outputHidden": false
   },
   "outputs": [
    {
     "data": {
      "text/plain": [
       "0. Countdown\n",
       "1. Savage Pop\n",
       "2. Check Out Game Two\n",
       "3. Jaron Lanier 4-ever\n",
       "4. No No No\n",
       "5. MyYota"
      ]
     },
     "execution_count": 4,
     "metadata": {},
     "output_type": "execute_result"
    }
   ],
   "source": [
    "omm('mixtape24.omm')  # omm() accepts .omm filenames"
   ]
  },
  {
   "cell_type": "markdown",
   "metadata": {},
   "source": [
    "We can access all the Mixtape features directly. \n",
    "\n",
    "Four simple examples below. "
   ]
  },
  {
   "cell_type": "code",
   "execution_count": 5,
   "metadata": {
    "collapsed": false,
    "inputHidden": false,
    "outputHidden": false
   },
   "outputs": [
    {
     "data": {
      "text/plain": [
       "Savage Pop  (podcast, making)  11s"
      ]
     },
     "execution_count": 5,
     "metadata": {},
     "output_type": "execute_result"
    }
   ],
   "source": [
    "omm('mixtape24.omm')[1]   # use index numbers to access individual clips"
   ]
  },
  {
   "cell_type": "code",
   "execution_count": 6,
   "metadata": {
    "collapsed": false,
    "inputHidden": false,
    "outputHidden": false
   },
   "outputs": [
    {
     "data": {
      "text/plain": [
       "[Countdown  ()  5s,\n",
       " Savage Pop  (podcast, making)  11s,\n",
       " Check Out Game Two  (german, podcast, gaming)  12s,\n",
       " Jaron Lanier 4-ever  (lecture, book)  1m14s,\n",
       " No No No  ()  7s,\n",
       " MyYota]"
      ]
     },
     "execution_count": 6,
     "metadata": {},
     "output_type": "execute_result"
    }
   ],
   "source": [
    "omm('mixtape24.omm').content  # use Mixtape.content for detailed view"
   ]
  },
  {
   "cell_type": "code",
   "execution_count": 7,
   "metadata": {
    "collapsed": false,
    "inputHidden": false,
    "outputHidden": false
   },
   "outputs": [
    {
     "data": {
      "text/plain": [
       "'y.TQSVcvnm4yY.1s.Countdown.6s..y.MxLOoriXkMc.41m28s.Savage_Pop.podcast.making.41m39s..y.HcpVBjX3eQc.6m0s.Check_Out_Game_Two.german.podcast.gaming.6m12s..y.BCTlcj5vImk.1m23s.Jaron_Lanier_4-ever.lecture.book.2m37s..y.88mI7fGqQgk.17s.No_No_No.24s..y.Hr4RBHlYrMk.MyYota'"
      ]
     },
     "execution_count": 7,
     "metadata": {},
     "output_type": "execute_result"
    }
   ],
   "source": [
    "omm('mixtape24.omm').omm_oneline()  # one-line Mixtape format"
   ]
  },
  {
   "cell_type": "code",
   "execution_count": 8,
   "metadata": {
    "collapsed": false,
    "inputHidden": false,
    "outputHidden": false
   },
   "outputs": [
    {
     "data": {
      "text/plain": [
       "'add_tags append content find hash html iframe methods omm omm_oneline open_tabs player show srt_search time vlc write_omm write_omm_oneline write_player_html'"
      ]
     },
     "execution_count": 8,
     "metadata": {},
     "output_type": "execute_result"
    }
   ],
   "source": [
    "\" \".join(omm('mixtape24.omm').methods())  # overview of the Mixtape methods"
   ]
  },
  {
   "cell_type": "markdown",
   "metadata": {},
   "source": [
    "<br>"
   ]
  }
 ],
 "metadata": {
  "kernel_info": {
   "name": "python3"
  },
  "kernelspec": {
   "display_name": "Python 3",
   "language": "python",
   "name": "python3"
  },
  "language_info": {
   "codemirror_mode": {
    "name": "ipython",
    "version": 3
   },
   "file_extension": ".py",
   "mimetype": "text/x-python",
   "name": "python",
   "nbconvert_exporter": "python",
   "pygments_lexer": "ipython3",
   "version": "3.7.3"
  },
  "nteract": {
   "version": "0.11.6"
  }
 },
 "nbformat": 4,
 "nbformat_minor": 2
}
